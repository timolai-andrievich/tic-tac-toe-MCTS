{
 "cells": [
  {
   "cell_type": "code",
   "execution_count": 1,
   "metadata": {},
   "outputs": [],
   "source": [
    "import game, policy, config\n",
    "import torch\n",
    "import numpy as np\n",
    "from player import *\n",
    "import glob\n",
    "import matplotlib.pyplot as plt"
   ]
  },
  {
   "cell_type": "code",
   "execution_count": 2,
   "metadata": {},
   "outputs": [],
   "source": [
    "models = glob.glob('../models/*.pt')"
   ]
  },
  {
   "cell_type": "code",
   "execution_count": 3,
   "metadata": {},
   "outputs": [],
   "source": [
    "cfg = config.Config()\n",
    "cfg.c_impact = 5\n",
    "cfg.mcts_playout = 800"
   ]
  },
  {
   "cell_type": "code",
   "execution_count": 4,
   "metadata": {},
   "outputs": [
    {
     "data": {
      "text/plain": [
       "device(type='cuda', index=0)"
      ]
     },
     "execution_count": 4,
     "metadata": {},
     "output_type": "execute_result"
    }
   ],
   "source": [
    "torch.device('cuda:0')"
   ]
  },
  {
   "cell_type": "code",
   "execution_count": 5,
   "metadata": {},
   "outputs": [],
   "source": [
    "g = game.Game()"
   ]
  },
  {
   "cell_type": "code",
   "execution_count": 6,
   "metadata": {},
   "outputs": [],
   "source": [
    "p1 = ModelPlayer(policy.Model(cfg, file_path=models[-1]))\n",
    "p2 = ModelPlayer(policy.Model(cfg, file_path=models[-2]))"
   ]
  },
  {
   "cell_type": "code",
   "execution_count": 7,
   "metadata": {},
   "outputs": [
    {
     "data": {
      "image/png": "[encoded data removed]",
      "text/plain": [
       "<Figure size 100x100 with 1 Axes>"
      ]
     },
     "metadata": {},
     "output_type": "display_data"
    },
    {
     "data": {
      "image/png": "[encoded data removed]",
      "text/plain": [
       "<Figure size 100x100 with 1 Axes>"
      ]
     },
     "metadata": {},
     "output_type": "display_data"
    },
    {
     "data": {
      "image/png": "[encoded data removed]",
      "text/plain": [
       "<Figure size 100x100 with 1 Axes>"
      ]
     },
     "metadata": {},
     "output_type": "display_data"
    },
    {
     "data": {
      "image/png": "[encoded data removed]",
      "text/plain": [
       "<Figure size 100x100 with 1 Axes>"
      ]
     },
     "metadata": {},
     "output_type": "display_data"
    },
    {
     "data": {
      "image/png": "[encoded data removed]",
      "text/plain": [
       "<Figure size 100x100 with 1 Axes>"
      ]
     },
     "metadata": {},
     "output_type": "display_data"
    },
    {
     "data": {
      "image/png": "[encoded data removed]",
      "text/plain": [
       "<Figure size 100x100 with 1 Axes>"
      ]
     },
     "metadata": {},
     "output_type": "display_data"
    },
    {
     "data": {
      "image/png": "[encoded data removed]",
      "text/plain": [
       "<Figure size 100x100 with 1 Axes>"
      ]
     },
     "metadata": {},
     "output_type": "display_data"
    },
    {
     "data": {
      "image/png": "[encoded data removed]",
      "text/plain": [
       "<Figure size 100x100 with 1 Axes>"
      ]
     },
     "metadata": {},
     "output_type": "display_data"
    },
    {
     "data": {
      "image/png": "[encoded data removed]",
      "text/plain": [
       "<Figure size 100x100 with 1 Axes>"
      ]
     },
     "metadata": {},
     "output_type": "display_data"
    },
    {
     "data": {
      "image/png": "[encoded data removed]",
      "text/plain": [
       "<Figure size 100x100 with 1 Axes>"
      ]
     },
     "metadata": {},
     "output_type": "display_data"
    },
    {
     "data": {
      "image/png": "[encoded data removed]",
      "text/plain": [
       "<Figure size 100x100 with 1 Axes>"
      ]
     },
     "metadata": {},
     "output_type": "display_data"
    }
   ],
   "source": [
    "g = game.Game()\n",
    "i = 0\n",
    "players = [p1, p2]\n",
    "while not g.is_finished():\n",
    "    act = players[i & 1].get_action(g)\n",
    "    _, wdl = players[i & 1].model.policy_function(g.position)\n",
    "    g.commit_action(act)\n",
    "    fig = plt.figure(figsize=(1, 1))\n",
    "    plt.imshow(g.position.board, vmin=-1, vmax=1)\n",
    "    plt.axis('off')\n",
    "    display(fig)\n",
    "    plt.close()\n",
    "    i += 1"
   ]
  },
  {
   "cell_type": "code",
   "execution_count": 8,
   "metadata": {},
   "outputs": [
    {
     "data": {
      "text/plain": [
       "array([[ 0.,  0.,  0.,  0.,  0.,  0.,  0.,  0.],\n",
       "       [ 0.,  0.,  0.,  0.,  0.,  0.,  0.,  0.],\n",
       "       [ 0.,  0.,  0.,  1.,  0.,  0.,  0.,  0.],\n",
       "       [ 0.,  0.,  0.,  1.,  0.,  0.,  0.,  0.],\n",
       "       [ 0.,  0.,  0.,  1.,  0., -1.,  0.,  0.],\n",
       "       [ 0.,  0.,  0.,  1.,  0., -1.,  0.,  0.],\n",
       "       [ 0.,  1.,  0.,  1.,  0., -1.,  0.,  0.],\n",
       "       [ 0., -1.,  0.,  0.,  0., -1.,  0.,  0.]])"
      ]
     },
     "execution_count": 8,
     "metadata": {},
     "output_type": "execute_result"
    }
   ],
   "source": [
    "g.position.board"
   ]
  },
  {
   "cell_type": "code",
   "execution_count": 9,
   "metadata": {},
   "outputs": [],
   "source": [
    "from utils import *"
   ]
  },
  {
   "cell_type": "code",
   "execution_count": 10,
   "metadata": {},
   "outputs": [
    {
     "name": "stderr",
     "output_type": "stream",
     "text": [
      "100%|██████████| 100/100 [00:07<00:00, 14.05it/s]\n"
     ]
    },
    {
     "data": {
      "text/plain": [
       "[0, 54, 46]"
      ]
     },
     "execution_count": 10,
     "metadata": {},
     "output_type": "execute_result"
    }
   ],
   "source": [
    "play_match(p1, p2, 100, False)"
   ]
  },
  {
   "cell_type": "code",
   "execution_count": 11,
   "metadata": {},
   "outputs": [],
   "source": [
    "rp = RandomPlayer()"
   ]
  },
  {
   "cell_type": "code",
   "execution_count": 12,
   "metadata": {},
   "outputs": [
    {
     "name": "stderr",
     "output_type": "stream",
     "text": [
      "100%|██████████| 100/100 [00:05<00:00, 17.55it/s]\n"
     ]
    },
    {
     "data": {
      "text/plain": [
       "[0, 98, 2]"
      ]
     },
     "execution_count": 12,
     "metadata": {},
     "output_type": "execute_result"
    }
   ],
   "source": [
    "play_match(p1, rp, 100)"
   ]
  },
  {
   "cell_type": "code",
   "execution_count": 13,
   "metadata": {},
   "outputs": [
    {
     "name": "stderr",
     "output_type": "stream",
     "text": [
      "100%|██████████| 100/100 [00:05<00:00, 17.79it/s]\n"
     ]
    },
    {
     "data": {
      "text/plain": [
       "[1, 95, 4]"
      ]
     },
     "execution_count": 13,
     "metadata": {},
     "output_type": "execute_result"
    }
   ],
   "source": [
    "play_match(p2, rp, 100)"
   ]
  },
  {
   "cell_type": "code",
   "execution_count": 14,
   "metadata": {},
   "outputs": [],
   "source": [
    "g = game.Game()\n",
    "for a in [0, 8, 1, 9, 2, 10, 63, 11]:\n",
    "    g.commit_action(a)"
   ]
  },
  {
   "cell_type": "code",
   "execution_count": 15,
   "metadata": {},
   "outputs": [
    {
     "data": {
      "text/plain": [
       "(array([0.        , 0.        , 0.        , 0.00375469, 0.00375469,\n",
       "        0.00375469, 0.00375469, 0.00375469, 0.        , 0.        ,\n",
       "        0.        , 0.        , 0.08135169, 0.00375469, 0.00375469,\n",
       "        0.00375469, 0.00375469, 0.00375469, 0.00375469, 0.00375469,\n",
       "        0.00375469, 0.00375469, 0.00375469, 0.00375469, 0.00375469,\n",
       "        0.00375469, 0.00375469, 0.00375469, 0.00375469, 0.00375469,\n",
       "        0.00375469, 0.00375469, 0.00375469, 0.00375469, 0.00375469,\n",
       "        0.00375469, 0.00375469, 0.00375469, 0.00375469, 0.00375469,\n",
       "        0.00375469, 0.00375469, 0.00375469, 0.00375469, 0.00375469,\n",
       "        0.00375469, 0.00375469, 0.00375469, 0.00375469, 0.00375469,\n",
       "        0.00375469, 0.00375469, 0.00375469, 0.00375469, 0.00375469,\n",
       "        0.71589487, 0.00375469, 0.00375469, 0.00375469, 0.00375469,\n",
       "        0.00375469, 0.00375469, 0.00375469, 0.        ]),\n",
       " array([0.0075, 0.105 , 0.8875]))"
      ]
     },
     "execution_count": 15,
     "metadata": {},
     "output_type": "execute_result"
    }
   ],
   "source": [
    "tree = MCTS(cfg)\n",
    "tree.run(g, p2.model.policy_function)"
   ]
  },
  {
   "cell_type": "code",
   "execution_count": 16,
   "metadata": {},
   "outputs": [
    {
     "data": {
      "text/plain": [
       "(array([2.89326836e-05, 2.00843824e-05, 6.82559084e-06, 9.91402976e-06,\n",
       "        3.98845550e-05, 8.84559904e-06, 1.36130175e-05, 7.35790309e-06,\n",
       "        6.82559084e-06, 6.82559084e-06, 6.82559084e-06, 6.82559084e-06,\n",
       "        6.82559084e-06, 1.03346310e-05, 2.11569477e-05, 7.26121789e-06,\n",
       "        7.96344193e-06, 1.10624671e-04, 2.08137899e-05, 4.70304622e-05,\n",
       "        2.46649724e-05, 2.49599165e-04, 1.70278472e-05, 6.82559084e-06,\n",
       "        8.77728053e-06, 1.05578583e-05, 6.82559084e-06, 6.82559084e-06,\n",
       "        6.82559084e-06, 1.38774467e-05, 1.36797944e-05, 6.82559084e-06,\n",
       "        6.82559084e-06, 9.50847698e-06, 6.82559084e-06, 6.82559084e-06,\n",
       "        2.26403383e-04, 6.82559084e-06, 3.58303805e-05, 2.12680497e-05,\n",
       "        6.82559084e-06, 1.13910373e-05, 1.81105843e-05, 4.33894274e-05,\n",
       "        8.25492971e-05, 7.56817008e-06, 6.82559084e-06, 6.82559084e-06,\n",
       "        6.82559084e-06, 6.82559084e-06, 1.25584102e-05, 6.82559084e-06,\n",
       "        1.27626608e-05, 2.45394695e-05, 6.82559084e-06, 9.98560011e-01,\n",
       "        1.07574515e-05, 6.82559084e-06, 7.92601350e-06, 1.64202938e-05,\n",
       "        6.82559084e-06, 1.30037133e-05, 2.35175085e-05, 6.82559084e-06],\n",
       "       dtype=float32),\n",
       " array([2.9210983e-09, 1.0000000e+00, 9.2641761e-10], dtype=float32))"
      ]
     },
     "execution_count": 16,
     "metadata": {},
     "output_type": "execute_result"
    }
   ],
   "source": [
    "p2.model.policy_function(g.position)"
   ]
  },
  {
   "cell_type": "code",
   "execution_count": null,
   "metadata": {},
   "outputs": [],
   "source": []
  }
 ],
 "metadata": {
  "kernelspec": {
   "display_name": "Python 3.9.13 ('torch')",
   "language": "python",
   "name": "python3"
  },
  "language_info": {
   "codemirror_mode": {
    "name": "ipython",
    "version": 3
   },
   "file_extension": ".py",
   "mimetype": "text/x-python",
   "name": "python",
   "nbconvert_exporter": "python",
   "pygments_lexer": "ipython3",
   "version": "3.9.13"
  },
  "orig_nbformat": 4,
  "vscode": {
   "interpreter": {
    "hash": "f3b09f0dae079356b11e2992c8ce1698bd60fda55aea4c87f004ec164747e9c6"
   }
  }
 },
 "nbformat": 4,
 "nbformat_minor": 2
}
